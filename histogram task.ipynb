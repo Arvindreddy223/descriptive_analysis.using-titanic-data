{
 "cells": [
  {
   "metadata": {
    "ExecuteTime": {
     "end_time": "2025-09-03T09:27:36.223235Z",
     "start_time": "2025-09-03T09:27:35.015608Z"
    }
   },
   "cell_type": "code",
   "source": [
    "import pandas as pd\n",
    "import matplotlib.pyplot as plt\n",
    "df=pd.read_csv(\"C:\\\\Users\\\\User\\\\Downloads\\\\titanic.csv\")\n",
    "df.Sex.value_counts()"
   ],
   "id": "8b6621e3c787cf4",
   "outputs": [
    {
     "data": {
      "text/plain": [
       "Sex\n",
       "male      577\n",
       "female    314\n",
       "Name: count, dtype: int64"
      ]
     },
     "execution_count": 1,
     "metadata": {},
     "output_type": "execute_result"
    }
   ],
   "execution_count": 1
  },
  {
   "metadata": {
    "ExecuteTime": {
     "end_time": "2025-09-03T09:28:03.990269Z",
     "start_time": "2025-09-03T09:28:03.953497Z"
    }
   },
   "cell_type": "code",
   "source": "df[[\"Sex\",\"Age\"]].sample(5)",
   "id": "dc713d05aeac53bf",
   "outputs": [
    {
     "data": {
      "text/plain": [
       "      Sex   Age\n",
       "519  male  32.0\n",
       "130  male  33.0\n",
       "134  male  25.0\n",
       "817  male  31.0\n",
       "6    male  54.0"
      ],
      "text/html": [
       "<div>\n",
       "<style scoped>\n",
       "    .dataframe tbody tr th:only-of-type {\n",
       "        vertical-align: middle;\n",
       "    }\n",
       "\n",
       "    .dataframe tbody tr th {\n",
       "        vertical-align: top;\n",
       "    }\n",
       "\n",
       "    .dataframe thead th {\n",
       "        text-align: right;\n",
       "    }\n",
       "</style>\n",
       "<table border=\"1\" class=\"dataframe\">\n",
       "  <thead>\n",
       "    <tr style=\"text-align: right;\">\n",
       "      <th></th>\n",
       "      <th>Sex</th>\n",
       "      <th>Age</th>\n",
       "    </tr>\n",
       "  </thead>\n",
       "  <tbody>\n",
       "    <tr>\n",
       "      <th>519</th>\n",
       "      <td>male</td>\n",
       "      <td>32.0</td>\n",
       "    </tr>\n",
       "    <tr>\n",
       "      <th>130</th>\n",
       "      <td>male</td>\n",
       "      <td>33.0</td>\n",
       "    </tr>\n",
       "    <tr>\n",
       "      <th>134</th>\n",
       "      <td>male</td>\n",
       "      <td>25.0</td>\n",
       "    </tr>\n",
       "    <tr>\n",
       "      <th>817</th>\n",
       "      <td>male</td>\n",
       "      <td>31.0</td>\n",
       "    </tr>\n",
       "    <tr>\n",
       "      <th>6</th>\n",
       "      <td>male</td>\n",
       "      <td>54.0</td>\n",
       "    </tr>\n",
       "  </tbody>\n",
       "</table>\n",
       "</div>"
      ]
     },
     "execution_count": 2,
     "metadata": {},
     "output_type": "execute_result"
    }
   ],
   "execution_count": 2
  },
  {
   "metadata": {
    "ExecuteTime": {
     "end_time": "2025-09-03T09:28:20.783535Z",
     "start_time": "2025-09-03T09:28:20.775116Z"
    }
   },
   "cell_type": "code",
   "source": [
    "male_ages=df[df[\"Sex\"]==\"male\"][\"Age\"].dropna()\n",
    "female_ages=df[df[\"Sex\"]==\"female\"][\"Age\"].dropna()"
   ],
   "id": "52236f6e4865fc73",
   "outputs": [],
   "execution_count": 3
  },
  {
   "metadata": {
    "ExecuteTime": {
     "end_time": "2025-09-03T09:28:36.152840Z",
     "start_time": "2025-09-03T09:28:35.904116Z"
    }
   },
   "cell_type": "code",
   "source": [
    "plt.hist(male_ages,alpha=1,bins=10,label=\"male\")\n",
    "plt.hist(female_ages,alpha=1,bins=10,label=\"female\")\n",
    "plt.title(\"age distribution\")\n",
    "plt.xlabel(\"age\")\n",
    "plt.ylabel(\"Number of Passengers\")\n",
    "plt.legend()\n",
    "plt.show()"
   ],
   "id": "f40b9fef97c04432",
   "outputs": [
    {
     "data": {
      "text/plain": [
       "<Figure size 640x480 with 1 Axes>"
      ],
      "image/png": "[encoded data removed]"
     },
     "metadata": {},
     "output_type": "display_data",
     "jetTransient": {
      "display_id": null
     }
    }
   ],
   "execution_count": 4
  }
 ],
 "metadata": {
  "kernelspec": {
   "display_name": "Python 3",
   "language": "python",
   "name": "python3"
  },
  "language_info": {
   "codemirror_mode": {
    "name": "ipython",
    "version": 2
   },
   "file_extension": ".py",
   "mimetype": "text/x-python",
   "name": "python",
   "nbconvert_exporter": "python",
   "pygments_lexer": "ipython2",
   "version": "2.7.6"
  }
 },
 "nbformat": 4,
 "nbformat_minor": 5
}
